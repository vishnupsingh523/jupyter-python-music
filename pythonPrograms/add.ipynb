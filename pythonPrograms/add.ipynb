{
 "cells": [
  {
   "cell_type": "code",
   "execution_count": 15,
   "metadata": {},
   "outputs": [
    {
     "name": "stdout",
     "output_type": "stream",
     "text": [
      "b'\\r\\n\\r\\n<!DOCTYPE html>\\r\\n\\r\\n<html lang=\"en\">\\r\\n<head><meta charset=\"utf-8\" /><title>\\r\\n\\tMy Class Login - Lovely Professional University\\r\\n</title><meta name=\"description\" content=\"Login page example\" /><meta name=\"viewport\" content=\"width=device-width, initial-scale=1, shrink-to-fit=no\" />\\r\\n    <!--begin::Fonts-->\\r\\n    <link rel=\"stylesheet\" href=\"https://fonts.googleapis.com/css?family=Poppins:300,400,500,600,700\" />\\r\\n    <!--end::Fonts-->\\r\\n    <!--begin::Page Custom Styles(used by this page)-->\\r\\n    <link href=\"assets/css/pages/login/login-1.css?v=7.0.5\" rel=\"stylesheet\" type=\"text/css\" />\\r\\n    <!--end::Page Custom Styles-->\\r\\n    <!--begin::Global Theme Styles(used by all pages)-->\\r\\n    <link href=\"assets/plugins/global/plugins.bundle.css?v=7.0.5\" rel=\"stylesheet\" type=\"text/css\" /><link href=\"assets/plugins/custom/prismjs/prismjs.bundle.css?v=7.0.5\" rel=\"stylesheet\" type=\"text/css\" /><link href=\"assets/css/style.bundle.css?v=7.0.5\" rel=\"stylesheet\" type=\"text/css\" />\\r\\n    <!--end::Global Theme Styles-->\\r\\n    <!--begin::Layout Themes(used by all pages)-->\\r\\n    <link href=\"assets/css/themes/layout/header/base/light.css?v=7.0.5\" rel=\"stylesheet\" type=\"text/css\" /><link href=\"assets/css/themes/layout/header/menu/light.css?v=7.0.5\" rel=\"stylesheet\" type=\"text/css\" /><link href=\"assets/css/themes/layout/brand/dark.css?v=7.0.5\" rel=\"stylesheet\" type=\"text/css\" /><link href=\"assets/css/themes/layout/aside/dark.css?v=7.0.5\" rel=\"stylesheet\" type=\"text/css\" />\\r\\n\\r\\n\\r\\n      <script>var KTAppSettings = { \"breakpoints\": { \"sm\": 576, \"md\": 768, \"lg\": 992, \"xl\": 1200, \"xxl\": 1400 }, \"colors\": { \"theme\": { \"base\": { \"white\": \"#ffffff\", \"primary\": \"#3699FF\", \"secondary\": \"#E5EAEE\", \"success\": \"#1BC5BD\", \"info\": \"#8950FC\", \"warning\": \"#FFA800\", \"danger\": \"#F64E60\", \"light\": \"#E4E6EF\", \"dark\": \"#181C32\" }, \"light\": { \"white\": \"#ffffff\", \"primary\": \"#E1F0FF\", \"secondary\": \"#EBEDF3\", \"success\": \"#C9F7F5\", \"info\": \"#EEE5FF\", \"warning\": \"#FFF4DE\", \"danger\": \"#FFE2E5\", \"light\": \"#F3F6F9\", \"dark\": \"#D6D6E0\" }, \"inverse\": { \"white\": \"#ffffff\", \"primary\": \"#ffffff\", \"secondary\": \"#3F4254\", \"success\": \"#ffffff\", \"info\": \"#ffffff\", \"warning\": \"#ffffff\", \"danger\": \"#ffffff\", \"light\": \"#464E5F\", \"dark\": \"#ffffff\" } }, \"gray\": { \"gray-100\": \"#F3F6F9\", \"gray-200\": \"#EBEDF3\", \"gray-300\": \"#E4E6EF\", \"gray-400\": \"#D1D3E0\", \"gray-500\": \"#B5B5C3\", \"gray-600\": \"#7E8299\", \"gray-700\": \"#5E6278\", \"gray-800\": \"#3F4254\", \"gray-900\": \"#181C32\" } }, \"font-family\": \"Poppins\" };</script>\\r\\n    <!--end::Global Config-->\\r\\n    <!--begin::Global Theme Bundle(used by all pages)-->\\r\\n    <script src=\"assets/plugins/global/plugins.bundle.js?v=7.0.5\"></script>\\r\\n    <script src=\"assets/plugins/custom/prismjs/prismjs.bundle.js?v=7.0.5\"></script>\\r\\n    <script src=\"assets/js/scripts.bundle.js?v=7.0.5\"></script>\\r\\n    <!--end::Global Theme Bundle-->\\r\\n    <!--begin::Page Scripts(used by this page)-->\\r\\n    <script src=\"assets/js/pages/custom/login/login-general.js?v=7.0.5\"></script>\\r\\n\\r\\n</head>\\r\\n\\r\\n\\r\\n<body id=\"kt_body\" class=\"header-fixed header-mobile-fixed subheader-enabled subheader-fixed aside-enabled aside-fixed aside-minimize-hoverable page-loading\">\\r\\n    <!--begin::Main-->\\r\\n    <div class=\"d-flex flex-column flex-root\">\\r\\n        <!--begin::Login-->\\r\\n        <div class=\"login login-1 login-signin-on d-flex flex-column flex-lg-row flex-column-fluid bg-white\" id=\"kt_login\">\\r\\n            <!--begin::Aside-->\\r\\n            <div class=\"login-aside d-flex flex-column flex-row-auto\" style=\"background: url(assets/media/bg/login-bg.jpg) no-repeat bottom center #F2C98A; background-size: cover;\">\\r\\n                <!--begin::Aside Top-->\\r\\n                <div class=\"d-flex flex-column-auto flex-column left-content pb-15\">\\r\\n                    <!--begin::Aside header-->\\r\\n                    <a href=\"#\" class=\"text-center mb-10\">\\r\\n                        <img src=\"https://www.lpu.in/images/logo/logo.svg\" class=\"max-h-100px\" alt=\"\" />\\r\\n                    </a>\\r\\n                    <!--end::Aside header-->\\r\\n                    <!--begin::Aside title-->\\r\\n                     <p class=\"pcontent\">\\r\\n                        <span class=\"font-weight-bolder\" style=\"color: #986923;\">MyClass</span> is  a seamless learning environment which shall be very close to face to face classes that will also include added progress indicators.<br>\\r\\n                        <br>\\r\\n                        Some features of the platform are given as:\\r\\n                    </p>\\r\\n                    <ul class=\"pcontent\">\\r\\n                        <li>Regular online interaction with faculty as per scheduled timetable.</li>\\r\\n                        <li>Ensures mastery and clarity of concepts for students by competent faculty.</li>\\r\\n                        <li>Unlimited replays of course material shared with the students.</li>\\r\\n                        <li>Well-crafted lecture schedule and regular online assessments/assignments.</li>\\r\\n                    </ul>\\r\\n                    <!--end::Aside title-->\\r\\n                </div>\\r\\n                <!--end::Aside Top-->\\r\\n                <!--begin::Aside Bottom-->\\r\\n\\r\\n                <!--end::Aside Bottom-->\\r\\n            </div>\\r\\n            <!--begin::Aside-->\\r\\n            <!--begin::Content-->\\r\\n            <div class=\"login-content flex-row-fluid d-flex flex-column justify-content-center position-relative overflow-hidden p-4 mx-auto\">\\r\\n                <!--begin::Content body-->\\r\\n                <div class=\"d-flex flex-column-fluid flex-center\">\\r\\n                    <!--begin::Signin-->\\r\\n                    <div class=\"login-form login-signin\">\\r\\n                        <!--begin::Form-->\\r\\n                        <form method=\"post\" action=\"./\" id=\"form1\" class=\"form\" novalidate=\"novalidate\">\\r\\n<div class=\"aspNetHidden\">\\r\\n<input type=\"hidden\" name=\"__EVENTTARGET\" id=\"__EVENTTARGET\" value=\"\" />\\r\\n<input type=\"hidden\" name=\"__EVENTARGUMENT\" id=\"__EVENTARGUMENT\" value=\"\" />\\r\\n<input type=\"hidden\" name=\"__VIEWSTATE\" id=\"__VIEWSTATE\" value=\"XUPaEkt7M2rXdbmTOzKV5aU16IVHQ1tlMwbTL1Cnbly+wo2GYBJbK4y+olUov3Vh8T1vw4AqtCXx6ZZZmN3eBLG2XnlgxYm7kKSN0au8878=\" />\\r\\n</div>\\r\\n\\r\\n<script type=\"text/javascript\">\\r\\n//<![CDATA[\\r\\nvar theForm = document.forms[\\'form1\\'];\\r\\nif (!theForm) {\\r\\n    theForm = document.form1;\\r\\n}\\r\\nfunction __doPostBack(eventTarget, eventArgument) {\\r\\n    if (!theForm.onsubmit || (theForm.onsubmit() != false)) {\\r\\n        theForm.__EVENTTARGET.value = eventTarget;\\r\\n        theForm.__EVENTARGUMENT.value = eventArgument;\\r\\n        theForm.submit();\\r\\n    }\\r\\n}\\r\\n//]]>\\r\\n</script>\\r\\n\\r\\n\\r\\n<script src=\"/WebResource.axd?d=pynGkmcFUV13He1Qd6_TZLqAmuZFgGED6m5q8emiz4t4JU4zZ0iUvhG3ecOrKWbQj4bKpgdMjO4GUrExcxFq-Q2&amp;t=637100518460000000\" type=\"text/javascript\"></script>\\r\\n\\r\\n\\r\\n<script src=\"Scripts/WebForms/MsAjax/MicrosoftAjax.js\" type=\"text/javascript\"></script>\\r\\n<script src=\"Scripts/WebForms/MsAjax/MicrosoftAjaxWebForms.js\" type=\"text/javascript\"></script>\\r\\n<div class=\"aspNetHidden\">\\r\\n\\r\\n\\t<input type=\"hidden\" name=\"__VIEWSTATEGENERATOR\" id=\"__VIEWSTATEGENERATOR\" value=\"CA0B0334\" />\\r\\n\\t<input type=\"hidden\" name=\"__EVENTVALIDATION\" id=\"__EVENTVALIDATION\" value=\"y3Ss2TWDnBwBp/Vw1dSRpJ8LvzdngORxn3C5q2kfodt1jCAD5faVkvt69MoRsa7b2PXiCZwoROVaZe1g6sTwf8X7YDB/ICyjkLhnWNM4WMSwn3XfOGfGm6/nNZ/ACCQ6AJal9v73XuKiiVvF1a11YYLj5MhaCK1INMDkS1JW9T8=\" />\\r\\n</div>\\r\\n                            <script type=\"text/javascript\">\\r\\n//<![CDATA[\\r\\nSys.WebForms.PageRequestManager._initialize(\\'ctl00$ctl14\\', \\'form1\\', [], [], [], 90, \\'ctl00\\');\\r\\n//]]>\\r\\n</script>\\r\\n\\r\\n                            \\r\\n    <style type=\"text/css\">\\r\\n        label.error {\\r\\n            color: #F64E60;\\r\\n        }\\r\\n    </style>\\r\\n    <!--begin::Title-->\\r\\n    <div class=\"pb-13 pt-lg-0 pt-5\">\\r\\n        <h3 class=\"font-weight-bolder text-dark font-size-h4 font-size-h1-lg\">Welcome to My Class</h3>\\r\\n        <h6>Use your ums credentials to login</h6>\\r\\n    </div>\\r\\n    <!--begin::Title-->\\r\\n    <!--begin::Form group-->\\r\\n    <div class=\"form-group\">\\r\\n        <label class=\"font-size-h6 font-weight-bolder text-dark\">Username</label>\\r\\n        <input name=\"ctl00$MainContent$txtUserName\" type=\"text\" id=\"txtUserName\" class=\"form-control form-control-solid h-auto py-7 px-6 rounded-lg\" autocomplete=\"off\" />\\r\\n    </div>\\r\\n    <!--end::Form group-->\\r\\n    <!--begin::Form group-->\\r\\n    <div class=\"form-group\">\\r\\n        <div class=\"d-flex justify-content-between mt-n5\">\\r\\n            <label class=\"font-size-h6 font-weight-bolder text-dark pt-5\">Password</label>\\r\\n        </div>\\r\\n        <input name=\"ctl00$MainContent$txtPassword\" type=\"password\" id=\"txtPassword\" class=\"form-control form-control-solid h-auto py-7 px-6 rounded-lg\" autocomplete=\"off\" />\\r\\n    </div>\\r\\n    <!--end::Form group-->\\r\\n    <!--begin::Action-->\\r\\n    <div class=\"pb-lg-0 pb-5\">\\r\\n        <input type=\"submit\" name=\"ctl00$MainContent$btnSubmit\" value=\"Sign In\" id=\"MainContent_btnSubmit\" class=\"btn btn-primary font-weight-bolder font-size-h6 px-8 py-4 my-3 mr-3\" />\\r\\n    </div>\\r\\n    <!--end::Action-->\\r\\n\\r\\n    <script src=\"https://ajax.aspnetcdn.com/ajax/jquery.validate/1.12.0/jquery.validate.min.js\" type=\"text/javascript\"></script>\\r\\n    <script src=\"https://cdnjs.cloudflare.com/ajax/libs/sweetalert/2.1.2/sweetalert.min.js\" integrity=\"sha512-AA1Bzp5Q0K1KanKKmvN/4d3IRKVlv9PYgwFPvm32nPO6QS8yH1HO7LbgB1pgiOxPtfeg5zEn2ba64MUcqJx6CA==\" crossorigin=\"anonymous\"></script>\\r\\n    <script type=\"text/javascript\">          \\r\\n        $(document).ready(function () {\\r\\n            $(\"#form1\").validate({\\r\\n                rules: {\\r\\n                    ctl00$MainContent$txtUserName:{\\r\\n                required: true\\r\\n            },\\r\\n                ctl00$MainContent$txtPassword: {\\r\\n                    required: true\\r\\n                } \\r\\n                },\\r\\n            messages: {\\r\\n                      ctl00$MainContent$txtUserName:{\\r\\n            required: \"Username is required.\"\\r\\n        },\\r\\n                  ctl00$MainContent$txtPassword: {\\r\\n                required: \"Password is required.\"\\r\\n            },  \\r\\n                },  \\r\\n            });\\r\\n         });\\r\\n\\r\\n        function successalert(str) {\\r\\n            swal({\\r\\n                title: \\'Warning\\',\\r\\n                text: str,\\r\\n                icon: \\'info\\'\\r\\n            });\\r\\n        }\\r\\n    </script>\\r\\n\\r\\n                        </form>                       \\r\\n                        <!--end::Form-->\\r\\n                    </div>\\r\\n                    <!--end::Signin-->\\r\\n\\r\\n                </div>\\r\\n                <!--end::Content body-->\\r\\n                <!--begin::Content footer-->\\r\\n\\r\\n                <!--end::Content footer-->\\r\\n            </div>\\r\\n            <!--end::Content-->\\r\\n        </div>\\r\\n        <!--end::Login-->\\r\\n    </div>\\r\\n    <!--end::Main-->\\r\\n\\r\\n    <!--begin::Global Config(global config for global JS scripts)-->\\r\\n  \\r\\n    <!--end::Page Scripts-->\\r\\n</body>\\r\\n\\r\\n\\r\\n</html>\\r\\n\\r\\n\\r\\n'\n"
     ]
    }
   ],
   "source": [
    "import requests\n",
    "from bs4 import BeautifulSoup\n",
    "headers = {\n",
    "    'user-agent': 'Mozilla/5.0 (Windows NT 10.0; Win64; x64) AppleWebKit/537.36 (KHTML, like Gecko) Chrome/84.0.4147.105 Safari/537.36'\n",
    "}\n",
    "\n",
    "\n",
    "login_data ={\n",
    "    '__VIEWSTATEGENERATOR': 'CA0B0334',\n",
    "    'ctl00$MainContent$txtUserName': '11912424',\n",
    "    'ctl00$MainContent$txtPassword': '%%Badshah&&7877%%',\n",
    "    'ctl00$MainContent$btnSubmit': 'Sign In'\n",
    "}\n",
    "\n",
    "with requests.session() as ss:\n",
    "    url = 'https://myclass.lpu.in/'\n",
    "    r = ss.get(url, headers= headers, data= login_data)\n",
    "    soup = BeautifulSoup(r.content, 'html5lib')\n",
    "    login_data['__EVENTVALIDATION'] = soup.find('input',attrs = {'name': '__EVENTVALIDATION'})['value']\n",
    "    # requests.post(r.url,login_data = login_data, headers=headers)\n",
    "    r = ss.post(url,data = login_data,headers = headers)\n",
    "    print(r.content)"
   ]
  },
  {
   "cell_type": "code",
   "execution_count": null,
   "metadata": {},
   "outputs": [],
   "source": []
  }
 ],
 "metadata": {
  "kernelspec": {
   "display_name": "Python 3",
   "language": "python",
   "name": "python3"
  },
  "language_info": {
   "codemirror_mode": {
    "name": "ipython",
    "version": 3
   },
   "file_extension": ".py",
   "mimetype": "text/x-python",
   "name": "python",
   "nbconvert_exporter": "python",
   "pygments_lexer": "ipython3",
   "version": "3.7.4"
  }
 },
 "nbformat": 4,
 "nbformat_minor": 2
}
