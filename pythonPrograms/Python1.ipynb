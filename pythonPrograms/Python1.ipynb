{
 "cells": [
  {
   "cell_type": "code",
   "execution_count": 3,
   "metadata": {},
   "outputs": [],
   "source": [
    "def findSum(input1,input2):\n",
    "    input1=[]\n",
    "    SumE=0\n",
    "    SumO=0\n",
    "    num=int(input(\"Enter the number of list elements\"))\n",
    "    \n",
    "    for i in range(1,num+1):\n",
    "        value=input(input(\"Enter the value%d:\" %i))\n",
    "        input1.append(value)\n",
    "\n",
    "        j=0\n",
    "        while j<num:\n",
    "            if numlist[j]%2 == 0:\n",
    "                SumE=SumE+input1[j]\n",
    "            else:\n",
    "                SumO=SumO+input1[j]\n",
    "            j=j+1\n",
    "\n",
    "    print(\"The sum of Even Numbers in list=\",SumE)\n",
    "    print(\"The sum of Odd Numbers in list=\",SumO)\n",
    "\n",
    "    return (findsum)\n"
   ]
  },
  {
   "cell_type": "code",
   "execution_count": null,
   "metadata": {},
   "outputs": [],
   "source": []
  }
 ],
 "metadata": {
  "kernelspec": {
   "display_name": "Python 3",
   "language": "python",
   "name": "python3"
  },
  "language_info": {
   "codemirror_mode": {
    "name": "ipython",
    "version": 3
   },
   "file_extension": ".py",
   "mimetype": "text/x-python",
   "name": "python",
   "nbconvert_exporter": "python",
   "pygments_lexer": "ipython3",
   "version": "3.7.4"
  }
 },
 "nbformat": 4,
 "nbformat_minor": 2
}
