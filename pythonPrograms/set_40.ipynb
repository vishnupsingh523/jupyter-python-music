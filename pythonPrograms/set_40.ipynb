{
 "cells": [
  {
   "cell_type": "code",
   "execution_count": 1,
   "metadata": {},
   "outputs": [],
   "source": [
    "# sorting the tuple"
   ]
  },
  {
   "cell_type": "code",
   "execution_count": 8,
   "metadata": {},
   "outputs": [
    {
     "name": "stdout",
     "output_type": "stream",
     "text": [
      "Enter the size of the list :  4\n",
      "Enter the values of the first list: \n",
      "\n",
      "2\n",
      "3\n",
      "2\n",
      "1\n",
      "Enter the values of the second list: \n",
      "\n",
      "1\n",
      "2\n",
      "3\n",
      "3\n",
      "Yes the list1 and list2 are equal.\n"
     ]
    }
   ],
   "source": [
    "# 2)\tUse a python function, which takes inputs of two tuples and returns true if the elements in the two lists are \n",
    "# same irrespective of the position of the element in the tuples\n",
    "import array\n",
    "def tuples():\n",
    "    k = int(input(\"Enter the size of tuples: \"))\n",
    "    tuple1 = ()\n",
    "    tuple2 = ()\n",
    "    \n",
    "#     initializing the arrays\n",
    "    check1 = [0]*1000\n",
    "    check2 = [0]*1000\n",
    "    \n",
    "#     entering the values of both the tuples here\n",
    "    print(\"\\nEnter the values of tuple 1: \")\n",
    "    for i in range(k):\n",
    "        x = int(input())\n",
    "        tuple1 = tuple1 + (x,)\n",
    "        check1[x]= check1[x] + 1\n",
    "        \n",
    "    print(\"\\nEnter the values of tuple 2: \")\n",
    "    for i in range(k):\n",
    "        x = int(input())\n",
    "        tuple2 = tuple2 + (x,)\n",
    "        check2[x]= check2[x] + 1\n",
    "    \n",
    "#     printing the tuples value\n",
    "    print(\"\\nThe value of tuples:\")\n",
    "    print(\"Tuple 1: \",tuple1)\n",
    "    print(\"Tuple 2:\",tuple2)\n",
    "    \n",
    "#     checking weather tuple 1 and tuple 2 are equal or not with the help of array\n",
    "    if check1 == check2:\n",
    "        print(\"\\nYES, both the tuples are equal to each other.\")\n",
    "    else:\n",
    "        print(\"\\nNO, both the tuples are not equal to each other.\")\n",
    "    \n",
    "tuples()"
   ]
  },
  {
   "cell_type": "code",
   "execution_count": 16,
   "metadata": {},
   "outputs": [
    {
     "name": "stdout",
     "output_type": "stream",
     "text": [
      "Enter the size: 4\n",
      "2\n",
      "1\n",
      "4\n",
      "5\n",
      "No, its not in ascending order.\n"
     ]
    }
   ],
   "source": [
    "# ascending order of the list\n",
    "def ascendingList():\n",
    "    size = int(input(\"Enter the size: \"))\n",
    "    list = []\n",
    "    for i in range(size):\n",
    "        x = int(input())\n",
    "        list.append(x)\n",
    "        \n",
    "    ch = list[0]\n",
    "    count = 0\n",
    "    for i in range(1,size):\n",
    "        if list[i]>= ch:\n",
    "            count = count +1;\n",
    "    \n",
    "    print(\"Elements present in the list: \",list)\n",
    "\n",
    "#   return the value\n",
    "    if count == size-1:\n",
    "        return 1\n",
    "    else: \n",
    "        return 0\n",
    "    \n",
    "def runMain():\n",
    "    if ascendingList():\n",
    "        print(\"Yes, its in ascending order.\")\n",
    "        \n",
    "    else:\n",
    "        print(\"No, its not in ascending order.\")\n",
    "\n",
    "runMain()"
   ]
  }
 ],
 "metadata": {
  "kernelspec": {
   "display_name": "Python 3",
   "language": "python",
   "name": "python3"
  },
  "language_info": {
   "codemirror_mode": {
    "name": "ipython",
    "version": 3
   },
   "file_extension": ".py",
   "mimetype": "text/x-python",
   "name": "python",
   "nbconvert_exporter": "python",
   "pygments_lexer": "ipython3",
   "version": "3.7.4"
  }
 },
 "nbformat": 4,
 "nbformat_minor": 2
}
