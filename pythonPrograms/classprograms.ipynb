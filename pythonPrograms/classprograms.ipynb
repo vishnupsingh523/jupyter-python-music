{
 "cells": [
  {
   "cell_type": "code",
   "execution_count": 3,
   "metadata": {},
   "outputs": [
    {
     "name": "stdout",
     "output_type": "stream",
     "text": [
      "A : 10\n",
      "B : 2\n",
      "C : 15\n",
      "15  is the greatest\n"
     ]
    }
   ],
   "source": [
    "#first program:\n",
    "def maxofThree():\n",
    "    x = int(input(\"A : \"));\n",
    "    y = int(input(\"B : \"));\n",
    "    z = int(input(\"C : \"));\n",
    "    \n",
    "    if x>y:\n",
    "        if x>z:\n",
    "            print(x,\" is the greatest\")\n",
    "        else:\n",
    "            print(z,\" is the greatest\")\n",
    "    elif y>z:\n",
    "        print(y, \" is the greatest\")\n",
    "    else:\n",
    "        print(z, \" is the gretest\")\n",
    "        \n",
    "maxofThree()"
   ]
  },
  {
   "cell_type": "code",
   "execution_count": 11,
   "metadata": {},
   "outputs": [
    {
     "name": "stdout",
     "output_type": "stream",
     "text": [
      "The sum is :  12000000\n"
     ]
    }
   ],
   "source": [
    "#second program:\n",
    "def multiply():\n",
    "    x = [10,20,30,40,50]\n",
    "    sum = 1;\n",
    "    for i in x:\n",
    "        sum*= i\n",
    "    print(\"The sum is : \",sum)\n",
    "    \n",
    "multiply()"
   ]
  },
  {
   "cell_type": "code",
   "execution_count": 1,
   "metadata": {},
   "outputs": [
    {
     "name": "stdout",
     "output_type": "stream",
     "text": [
      "Enter a number: 5\n",
      "The factorial is :  120\n"
     ]
    }
   ],
   "source": [
    "#fourth program:\n",
    "def fact():\n",
    "    x = int(input(\"Enter a number: \"))\n",
    "    fac =1\n",
    "    while x!=1:\n",
    "        fac*=x\n",
    "        x= x-1\n",
    "    print(\"The factorial is : \",fac)\n",
    "    \n",
    "fact()"
   ]
  },
  {
   "cell_type": "code",
   "execution_count": 3,
   "metadata": {},
   "outputs": [
    {
     "name": "stdout",
     "output_type": "stream",
     "text": [
      "Enter a stringhello\n",
      "olleh\n"
     ]
    }
   ],
   "source": [
    "#fouth program:\n",
    "def string():\n",
    "    x = input(\"Enter a string\")\n",
    "    print(x[::-1])\n",
    "string()"
   ]
  },
  {
   "cell_type": "code",
   "execution_count": 5,
   "metadata": {},
   "outputs": [
    {
     "name": "stdout",
     "output_type": "stream",
     "text": [
      "Enter lowest range: 10\n",
      "Enter highest range: 20\n",
      "Enter the number to check: 10\n",
      "Yes, it is in range\n"
     ]
    }
   ],
   "source": [
    "#sixth program:\n",
    "def rangeit():\n",
    "    a = int(input(\"Enter lowest range: \"))\n",
    "    b = int(input(\"Enter highest range: \"))\n",
    "    x = int(input(\"Enter the number to check: \"))\n",
    "    if x>=a:\n",
    "        if x<=b:\n",
    "            print(\"Yes, it is in range\")\n",
    "        else:\n",
    "            print(\"No, is not in the range.\")\n",
    "    else:\n",
    "        print(\"No, is not in the range.\")\n",
    "rangeit()"
   ]
  },
  {
   "cell_type": "code",
   "execution_count": null,
   "metadata": {},
   "outputs": [],
   "source": []
  }
 ],
 "metadata": {
  "kernelspec": {
   "display_name": "Python 3",
   "language": "python",
   "name": "python3"
  },
  "language_info": {
   "codemirror_mode": {
    "name": "ipython",
    "version": 3
   },
   "file_extension": ".py",
   "mimetype": "text/x-python",
   "name": "python",
   "nbconvert_exporter": "python",
   "pygments_lexer": "ipython3",
   "version": "3.7.4"
  }
 },
 "nbformat": 4,
 "nbformat_minor": 2
}
