{
 "cells": [
  {
   "cell_type": "code",
   "execution_count": 1,
   "metadata": {},
   "outputs": [],
   "source": [
    "# sorting the tuple"
   ]
  },
  {
   "cell_type": "code",
   "execution_count": 8,
   "metadata": {},
   "outputs": [
    {
     "name": "stdout",
     "output_type": "stream",
     "text": [
      "Enter the size of the list :  4\n",
      "Enter the values of the first list: \n",
      "\n",
      "2\n",
      "3\n",
      "2\n",
      "1\n",
      "Enter the values of the second list: \n",
      "\n",
      "1\n",
      "2\n",
      "3\n",
      "3\n",
      "Yes the list1 and list2 are equal.\n"
     ]
    }
   ],
   "source": [
    "# 2: lists are equal or not\n",
    "def checkEqual():\n",
    "    list1 = []\n",
    "    list2 = []\n",
    "    \n",
    "    size = int(input(\"Enter the size of the list :  \"))\n",
    "    \n",
    "#     Taking the values of the list1\n",
    "    print(\"Enter the values of the first list: \\n\")\n",
    "    for i in range(size):\n",
    "        x = int(input())\n",
    "        list1.append(x)\n",
    "    \n",
    "#     Taking the values of the list2\n",
    "    print(\"Enter the values of the second list: \\n\")\n",
    "    for i in range(size):\n",
    "        x = int(input())\n",
    "        list2.append(x)\n",
    "        \n",
    "    count = 0\n",
    "    for i in range(size):\n",
    "        for k in range(size):\n",
    "            if list1[i] == list2[k]:\n",
    "                count = count +1\n",
    "                break\n",
    "    \n",
    "    if count == size:\n",
    "        return 1\n",
    "    else:\n",
    "        return 0\n",
    "\n",
    "def main():\n",
    "    if checkEqual():\n",
    "        print(\"Yes the list1 and list2 are equal.\")\n",
    "    else:\n",
    "        print(\"No, the list1 and list2 are not equal.\")\n",
    "        \n",
    "main()"
   ]
  },
  {
   "cell_type": "code",
   "execution_count": 16,
   "metadata": {},
   "outputs": [
    {
     "name": "stdout",
     "output_type": "stream",
     "text": [
      "Enter the size: 4\n",
      "2\n",
      "1\n",
      "4\n",
      "5\n",
      "No, its not in ascending order.\n"
     ]
    }
   ],
   "source": [
    "# ascending order of the list\n",
    "def ascendingList():\n",
    "    size = int(input(\"Enter the size: \"))\n",
    "    list = []\n",
    "    for i in range(size):\n",
    "        x = int(input())\n",
    "        list.append(x)\n",
    "        \n",
    "    ch = list[0]\n",
    "    count = 0\n",
    "    for i in range(1,size):\n",
    "        if list[i]>= ch:\n",
    "            count = count +1;\n",
    "    \n",
    "    print(\"Elements present in the list: \",list)\n",
    "\n",
    "#   return the value\n",
    "    if count == size-1:\n",
    "        return 1\n",
    "    else: \n",
    "        return 0\n",
    "    \n",
    "def runMain():\n",
    "    if ascendingList():\n",
    "        print(\"Yes, its in ascending order.\")\n",
    "        \n",
    "    else:\n",
    "        print(\"No, its not in ascending order.\")\n",
    "\n",
    "runMain()"
   ]
  },
  {
   "cell_type": "code",
   "execution_count": null,
   "metadata": {},
   "outputs": [],
   "source": []
  },
  {
   "cell_type": "code",
   "execution_count": null,
   "metadata": {},
   "outputs": [],
   "source": []
  }
 ],
 "metadata": {
  "kernelspec": {
   "display_name": "Python 3",
   "language": "python",
   "name": "python3"
  },
  "language_info": {
   "codemirror_mode": {
    "name": "ipython",
    "version": 3
   },
   "file_extension": ".py",
   "mimetype": "text/x-python",
   "name": "python",
   "nbconvert_exporter": "python",
   "pygments_lexer": "ipython3",
   "version": "3.7.4"
  }
 },
 "nbformat": 4,
 "nbformat_minor": 2
}
