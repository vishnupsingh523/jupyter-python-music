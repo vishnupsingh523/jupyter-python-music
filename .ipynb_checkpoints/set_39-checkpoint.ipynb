{
 "cells": [
  {
   "cell_type": "code",
   "execution_count": 4,
   "metadata": {},
   "outputs": [
    {
     "name": "stdout",
     "output_type": "stream",
     "text": [
      "Enter the size of list1: -1\n",
      "Enter the size of list2: 5\n",
      "1\n",
      "2\n",
      "3\n",
      "4\n",
      "5\n",
      "The sorted list 1 :  []\n",
      "The sorted list 2 :  [5, 4, 3, 2, 1]\n"
     ]
    }
   ],
   "source": [
    "# 1: printing the list in ascending and descending order\n",
    "def ascDesc():\n",
    "    list1 =[]\n",
    "    list2 =[]\n",
    "    \n",
    "#     Inputing the size and the list2 values\n",
    "    x = int(input(\"Enter the size of list1: \"))\n",
    "    print(\"Enter values :\")\n",
    "    for i in range(x):\n",
    "        z = int(input())\n",
    "        list1.append(z)\n",
    "    \n",
    "#     Inputing the size and the list2 values\n",
    "    y = int(input(\"Enter the size of list2: \"))\n",
    "    print(\"Enter values :\")\n",
    "    for i in range(y):\n",
    "        z = int(input())\n",
    "        list2.append(z)\n",
    "        \n",
    "#       sorting and printing the list1\n",
    "    list1.sort()\n",
    "    print(\"The sorted list 1 : \",list1)\n",
    "    \n",
    "#     sorting the list2:\n",
    "    list2.sort(reverse = True)\n",
    "    print(\"The reverse sorted list 2 : \",list2)\n",
    "\n",
    "ascDesc()"
   ]
  },
  {
   "cell_type": "code",
   "execution_count": 16,
   "metadata": {},
   "outputs": [
    {
     "name": "stdout",
     "output_type": "stream",
     "text": [
      "Printing the pattern:\n",
      "\n",
      "1 2 3 4 5 \n",
      "  * 2 3 4 5 \n",
      "    * * 3 4 5 \n",
      "      * * * 4 5 \n",
      "        * * * * 5 \n"
     ]
    }
   ],
   "source": [
    "# 3: Printing the pattern\n",
    "def pattern():\n",
    "    list = [1,2,3,4,5]\n",
    "    print(\"Printing the pattern:\\n\")\n",
    "    for i in range(5):\n",
    "        for k in range(i):\n",
    "            print(\" \",end=\" \")\n",
    "            \n",
    "        for k in range(i):\n",
    "            print(\"*\",end=\" \")\n",
    "            \n",
    "        for j in range(i,5):\n",
    "            print(list[j],end=\" \")\n",
    "            \n",
    "        print(\"\")\n",
    "            \n",
    "# calling pattern() fucntion\n",
    "pattern()"
   ]
  },
  {
   "cell_type": "code",
   "execution_count": null,
   "metadata": {},
   "outputs": [],
   "source": []
  }
 ],
 "metadata": {
  "kernelspec": {
   "display_name": "Python 3",
   "language": "python",
   "name": "python3"
  },
  "language_info": {
   "codemirror_mode": {
    "name": "ipython",
    "version": 3
   },
   "file_extension": ".py",
   "mimetype": "text/x-python",
   "name": "python",
   "nbconvert_exporter": "python",
   "pygments_lexer": "ipython3",
   "version": "3.7.4"
  }
 },
 "nbformat": 4,
 "nbformat_minor": 2
}
